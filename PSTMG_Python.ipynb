{
 "cells": [
  {
   "cell_type": "markdown",
   "metadata": {},
   "source": [
    "# Variables\n",
    "## Types de variables\n",
    "\n",
    "On utilise différents types de variables :\n",
    "\n",
    "&nbsp;\n",
    "◦ nombre entier (integer -> int) ;\n",
    "\n",
    "&nbsp;\n",
    "◦ nombre flottant (nombre à virgule, floating point number -> float) ;\n",
    "\n",
    "&nbsp;\n",
    "◦ chaîne de caractères (character string -> str) ;\n",
    "\n",
    "&nbsp;\n",
    "◦ liste (collection d’éléments écrits entre crochets [ ] ) ;\n",
    "\n",
    "&nbsp;\n",
    "◦ booléen (boolean ! bool prend la valeur True ou False).\n",
    "\n",
    "\n",
    "&nbsp;\n",
    "Saisir différents types de variable par exemple a=3, a=2.5, a=3/11, a=\"antoine\", a=[0,1,2], a=4/3<5/4 suivies de la commande type pour connaître son type "
   ]
  },
  {
   "cell_type": "code",
   "execution_count": null,
   "metadata": {},
   "outputs": [],
   "source": [
    "a=4/3<5/4\n",
    "type(a)\n"
   ]
  },
  {
   "cell_type": "markdown",
   "metadata": {},
   "source": [
    "## Opérations sur les variables\n",
    "### Affectation\n",
    "Précédemment vous avez effectué plusieurs affectations mais on peut réaliser des affectations simultanées par exemple a,b=2,7.5. Vérifier la valeur de chacune des variables par un print."
   ]
  },
  {
   "cell_type": "code",
   "execution_count": null,
   "metadata": {},
   "outputs": [],
   "source": [
    " # écrire l'affectation des variables a et b devant le symbole #\n",
    "print(\"a =\",a,\" et b =\",b)"
   ]
  },
  {
   "cell_type": "markdown",
   "metadata": {},
   "source": [
    "### Addition, multiplication, ..., de variables\n",
    "Pour rappel l'addition de 2 variables a et b s'écrit a+b ; la soustraction a-b ; la multiplication a\\*b ; la division a/b ; pour obtenir le quotient de la division euclidienne a//b et le reste a%b. Elever à la puissance n une variable correspond à l'instruction a\\*\\*n. Tester les différentes opérations avec a=22 et b=5."
   ]
  },
  {
   "cell_type": "code",
   "execution_count": null,
   "metadata": {},
   "outputs": [],
   "source": [
    "a,b=22,5\n",
    "print(\"addition =\",##) # remplacer les ## par le code adéquat\n",
    "print(\"soustraction =\",##)\n",
    "print(\"multiplication =\",##)\n",
    "print(\"division =\",##)\n",
    "print(\"quotient =\",##)\n",
    "print(\"reste =\",##)"
   ]
  },
  {
   "cell_type": "markdown",
   "metadata": {},
   "source": [
    "## Instructions d'entrées et sorties\n",
    "\n",
    "Comme déjà utilisée, la commande print permet d'afficher des messages ou la valeur de variables. Pour demander à l'opérateur de saisir la valeur des variables on utilise la commande input. Reprendre l'application précédente en fixant a comme entier et b comme flottant."
   ]
  },
  {
   "cell_type": "code",
   "execution_count": null,
   "metadata": {},
   "outputs": [],
   "source": [
    " # à compléter pour demander à l'opérateur de saisir a, a étant un entier naturel\n",
    " # à compléter pour demander à l'opérateur de saisir b, b étant une valeur numérique quelconque\n",
    "print(\"addition =\",a+b)\n",
    "print(\"soustraction =\",a-b)\n",
    "print(\"multiplication =\",a*b)\n",
    "print(\"division =\",a/b)\n",
    "print(\"quotient =\",a//b)\n",
    "print(\"reste =\",a%b)"
   ]
  },
  {
   "cell_type": "markdown",
   "metadata": {},
   "source": [
    "# Instructions conditionnelles\n",
    "## Une seule condition -> if\n",
    "\n",
    "Exécuter le code ci-dessous en choisissant différentes valeurs pour a et b. Puis prendre b=0. Ajouter au code la condition permettant de calculer la division quelque soit la valeur de b saisie. "
   ]
  },
  {
   "cell_type": "code",
   "execution_count": null,
   "metadata": {},
   "outputs": [],
   "source": [
    "a=float(input(\"a=\"))\n",
    "b=float(input(\"b=\"))\n",
    "div=a/b\n",
    "print(div)"
   ]
  },
  {
   "cell_type": "markdown",
   "metadata": {},
   "source": [
    "## Deux conditions -> if ... else\n",
    "Vérifier que le code ci-desous est opérationnel puis changez la condition de sorte que l'on calcule le carré pour les abscisses négatives."
   ]
  },
  {
   "cell_type": "code",
   "execution_count": null,
   "metadata": {},
   "outputs": [],
   "source": [
    "x=float(input(\"x=\"))\n",
    "if x<=2:\n",
    "    y=x**2\n",
    "else:\n",
    "    y=2*x+1\n",
    "print(\"Image =\",y)"
   ]
  },
  {
   "cell_type": "markdown",
   "metadata": {},
   "source": [
    "## Trois conditions et plus -> if ... elif ... else\n",
    "Vérifier que le code ci-dessous est opérationnel."
   ]
  },
  {
   "cell_type": "code",
   "execution_count": null,
   "metadata": {},
   "outputs": [],
   "source": [
    "x=float(input(\"x=\"))\n",
    "if x<0:\n",
    "    print(\"négatif\")\n",
    "elif x==0:\n",
    "    print(\"nul\")\n",
    "else:\n",
    "    print(\"positif\")"
   ]
  },
  {
   "cell_type": "markdown",
   "metadata": {},
   "source": [
    "# Boucles bornées ou non\n",
    "## Boucles bornées\n",
    "Une boucle permet de répéter plusieurs fois de suite un bloc d’instructions. Lorsque le nombre *n* d’itérations est connu à l’avance, on définit une boucle bornée appelée également boucle Pour (For en anglais). Notamment elle permet de parcourir tous les éléments d’une liste ou d’une chaîne.\n",
    "\n",
    "&nbsp;\n",
    "Pour obtenir l’affichage du carré des entiers de 0 à 4, on peut programmer la boucle suivante. Après l'avoir testée, la modifier de façon à obtenir le cube des 10 premiers entiers."
   ]
  },
  {
   "cell_type": "markdown",
   "metadata": {},
   "source": [
    "for i in range(5):\n",
    "    print(i**2)"
   ]
  },
  {
   "cell_type": "markdown",
   "metadata": {},
   "source": [
    "On effectue la somme des *n* premiers nombres impairs ; le nombre de répétitions est connu donc on utilise une boucle bornée. Tester le code suivant :"
   ]
  },
  {
   "cell_type": "code",
   "execution_count": null,
   "metadata": {},
   "outputs": [],
   "source": [
    "n=int(input(\"Nb d’impairs =\"))\n",
    "s=0\n",
    "for i in range(1,2*n,2):\n",
    "    s=s+i\n",
    "print(s)"
   ]
  },
  {
   "cell_type": "markdown",
   "metadata": {},
   "source": [
    "## Boucles non bornées\n",
    "Certaines fois, le nombre *n* d’itérations n’est pas connu à l’avance, il peut dépendre d’une condition ; on définit alors une boucle non bornée appelée également boucle Tant que (While en anglais). Le bloc d’instructions est répété tant que la condition est vraie ; quand celle-ci devient fausse, alors on sort de la boucle et on applique la suite du programme. Notamment elle permet de rechercher le rang des termes d’une suite à partir du quel on atteint un seuil.\n",
    "\n",
    "&nbsp;\n",
    "Pour obtenir l’affichage du carré des entiers de 0 à 4, on peut programmer la boucle suivante. Après l'avoir testée, la modifier de façon à obtenir le cube des 10 premiers entiers."
   ]
  },
  {
   "cell_type": "code",
   "execution_count": null,
   "metadata": {},
   "outputs": [],
   "source": [
    "i=0\n",
    "while i<5:\n",
    "    print(i**2)\n",
    "    i=i+1"
   ]
  },
  {
   "cell_type": "markdown",
   "metadata": {},
   "source": [
    "On effectue la somme des nombres impairs tant que le total n’a pas atteint 50 ; le nombre de répétitions est inconnu donc on utilise une boucle non bornée."
   ]
  },
  {
   "cell_type": "code",
   "execution_count": null,
   "metadata": {},
   "outputs": [],
   "source": [
    "s=0\n",
    "i=1\n",
    "while s<50:\n",
    "    s=s+i\n",
    "    i=i+2\n",
    "print(s)"
   ]
  },
  {
   "cell_type": "markdown",
   "metadata": {},
   "source": [
    "# Fonctions\n",
    "Une fonction réalise un bloc d’instructions et renvoie un résultat ; elle ne sera exécutée que si elle est appelée dans le programme et ceux-ci éventuellement plusieurs fois. Elle possède généralement des paramètres qui prendront pour valeur les arguments donnés à la fonction. Saisir le code sans fonction puis utiliser le code avec fonction."
   ]
  },
  {
   "cell_type": "code",
   "execution_count": null,
   "metadata": {},
   "outputs": [],
   "source": [
    "# Saisir le code sans fonction permettant de calculer le volume d'une pyramide\n"
   ]
  },
  {
   "cell_type": "code",
   "execution_count": null,
   "metadata": {},
   "outputs": [],
   "source": [
    "# Utiliser le code avec fonction et vérifier les résultats obtenus\n",
    "def volpyr(c,h):\n",
    "    return 1/3*h*c**2\n",
    "\n",
    "print(volpyr(2,5))"
   ]
  },
  {
   "cell_type": "markdown",
   "metadata": {},
   "source": [
    "# Simulations du hasard\n",
    "La bibliothèque random propose des fonctions qui simplifient la simulation d’une expérience aléatoire ; par exemple :\n",
    "\n",
    "&nbsp;\n",
    "◦ random() : renvoie un décimal appartenant à l’intervalle \\[0 ; 1\\[\n",
    "\n",
    "&nbsp;\n",
    "◦ randint(1,6) : renvoie un entier naturel appartenant à l’intervalle [1 ; 6]\n",
    "\n",
    "&nbsp;\n",
    "◦ uniform(1.5,3) : renvoie un décimal appartenant à l’intervalle [1.5 ; 3]\n",
    "\n",
    "&nbsp;\n",
    "Si l’on souhaite simuler *n* lancers d’un dé à 6 faces, on peut définir une fonction qui prend le nombre de lancers en paramètres et ensuite on exécute une boucle bornée. Soit on affiche les résultats au fur et à mesure , soit on les stocke dans une liste. Changez les paramètres pour un dé à 4 faces."
   ]
  },
  {
   "cell_type": "code",
   "execution_count": null,
   "metadata": {},
   "outputs": [],
   "source": [
    "# Affichage de tous les résultats\n",
    " # ajoutez l'appel de la bibliothèque adéquate devant le symbole #\n",
    "\n",
    "n=int(input(\"Nb de lancers = \"))\n",
    "for i in range(1,n+1):\n",
    "    print(\"Lancer \",i,\" =\",randint(1,6))"
   ]
  },
  {
   "cell_type": "markdown",
   "metadata": {},
   "source": [
    "Dans l’exemple ci-dessous, *n = 15*. Changez les paramètres pour un dé à 4 faces et obtenir 10 lancers."
   ]
  },
  {
   "cell_type": "code",
   "execution_count": null,
   "metadata": {},
   "outputs": [],
   "source": [
    "# Stockage des résultats\n",
    " # ajoutez l'appel de la bibliothèque adéquate devant le symbole #\n",
    "\n",
    "def lance_de(n):\n",
    "    L=[randint(1,6) for i in range(n)]\n",
    "    return L\n",
    "\n",
    "lance_de(15)"
   ]
  },
  {
   "cell_type": "markdown",
   "metadata": {},
   "source": [
    "# Représentations graphiques\n",
    "La bibliothèque matplotlib propose des fonctions qui permettent de représenter des courbes, des graphes, ...\n",
    "\n",
    "&nbsp;\n",
    "◦ plt.plot() : trace des nuages de points ou des courbes représentatives ;\n",
    "\n",
    "&nbsp;\n",
    "◦ plt.grid() : affiche le quadrillage ;\n",
    "\n",
    "&nbsp;\n",
    "◦ plt.show() : en fin de script affiche la fenêtre graphique ;\n",
    "\n",
    "&nbsp;\n",
    "◦ ...\n",
    "\n",
    "&nbsp;\n",
    "Modifier le code ci-dessous pour obtenir une courbe en pontillés rouges et l'affichage de la grille. "
   ]
  },
  {
   "cell_type": "code",
   "execution_count": null,
   "metadata": {},
   "outputs": [],
   "source": [
    "import matplotlib.pyplot as plt\n",
    "\n",
    "abscis=[-2+i*.04 for i in range(101)]\n",
    "ordon=[x**2 for x in abscis]\n",
    "plt.plot(abscis,ordon)\n",
    "plt.show()"
   ]
  },
  {
   "cell_type": "markdown",
   "metadata": {},
   "source": [
    "# Listes\n",
    "Une liste est une collection ordonnée d’objets (nombres, caractères, . . .). Une liste est codifiée en Python par une paire de crochets, \\[ \\]. Les éléments la composant sont saisis entre les crochets et sont séparés par une virgule. Chaque élément de la liste est repéré, par son indice, sachant que l’indice du premier élément est 0, du deuxième 1, etc.\n",
    "\n",
    "&nbsp;\n",
    "Complétez la saisie des listes et vérifier le résultat."
   ]
  },
  {
   "cell_type": "code",
   "execution_count": null,
   "metadata": {},
   "outputs": [],
   "source": [
    "P=[0,2]\n",
    "M=[\"janvier\"]\n",
    "L=[1]\n",
    "V=[]\n",
    "print(P,M,L,V)"
   ]
  },
  {
   "cell_type": "markdown",
   "metadata": {},
   "source": [
    "Testez les commandes faisant appel à l'indice tel que P[0] et donnant la longueur de la liste len(P)."
   ]
  },
  {
   "cell_type": "code",
   "execution_count": null,
   "metadata": {},
   "outputs": [],
   "source": [
    "P[0]"
   ]
  },
  {
   "cell_type": "markdown",
   "metadata": {},
   "source": [
    "## Création de listes\n",
    "Utilisez les autres possibilités de générations de listes en utilisant la commande list(range()), par ajouts successifs ou en compréhension."
   ]
  },
  {
   "cell_type": "code",
   "execution_count": null,
   "metadata": {},
   "outputs": [],
   "source": [
    "L=list(range(1,15,2))\n",
    "print(L)"
   ]
  },
  {
   "cell_type": "markdown",
   "metadata": {},
   "source": [
    "## Opérations sur des éléments d’une liste\n",
    "On vient de voir comment ajouter un ou des objets en fin de liste, mais certaines fois on souhaite insérer un objet à l’intérieur d’une liste. Ceci sera réalisable par la commande *insert()* qui insère un objet à une position donnée.\n",
    "\n",
    "&nbsp;\n",
    "Tester le code ci-dessous, puis le modifier pour ajouter un 1 entre le 4 et le 5."
   ]
  },
  {
   "cell_type": "code",
   "execution_count": null,
   "metadata": {},
   "outputs": [],
   "source": [
    "lp=[1,3,5,3]\n",
    "print(lp) # impression avant modification\n",
    "lp.insert(2,4)\n",
    "print(lp) # impression après modification"
   ]
  },
  {
   "cell_type": "markdown",
   "metadata": {},
   "source": [
    "Supprimer un objet d’une liste n’est pas plus compliqué, plusieurs commandes existent *remove()* pour supprimer la première occurrence d’une valeur ou *del* pour supprimer un élément connaissant son indice.\n",
    "\n",
    "&nbsp;\n",
    "Complétez le code pour utiliser la commande *del*."
   ]
  },
  {
   "cell_type": "code",
   "execution_count": null,
   "metadata": {},
   "outputs": [],
   "source": [
    "lp=[1,3,4,1,5,3]\n",
    "print(lp) # impression avant modification\n",
    "lp.remove(1)\n",
    "print(lp) # impression après modification"
   ]
  },
  {
   "cell_type": "markdown",
   "metadata": {},
   "source": [
    "## Utilisations des listes\n",
    "On peut parcourir une liste de gauche à droite ou de droite à gauche, par convention de gauche à droite on utilise des indices positifs (0 inclus) et de droite à gauche des indices négatifs.\n",
    "Tester les différents affichages ci-dessous."
   ]
  },
  {
   "cell_type": "code",
   "execution_count": null,
   "metadata": {},
   "outputs": [],
   "source": [
    "lp=[3,4,1,5]\n",
    "lp[1]"
   ]
  },
  {
   "cell_type": "markdown",
   "metadata": {},
   "source": [
    "On peut itérer (répéter une action) sur les éléments d’une liste, on obtiendra tous les éléments de la liste à l’aide de l’instruction *x for x in liste* . Si l’on souhaite stocker l’image des nombres de la liste lp par la fonction f(x) = 2x − 3 dans la liste result, on peut écrire le code suivant : (à vous de compléter)"
   ]
  },
  {
   "cell_type": "code",
   "execution_count": null,
   "metadata": {},
   "outputs": [],
   "source": [
    "# Code à compléter\n",
    "lp=[3,4,1,5]\n",
    "\n",
    "print(lp)\n",
    "print(result)"
   ]
  },
  {
   "cell_type": "markdown",
   "metadata": {},
   "source": [
    "Il n’existe pas une solution unique pour créer une liste répondant à une question. Malgré tout, il faut rechercher la simplicité dans la construction des listes pour qu’elles restent compréhensibles par les différents intervenants sur un programme. Vérifier que les différents codes proposés sur le fascicule permettent d'obtenir L=[0,13,26,39,52,65,78,91]"
   ]
  },
  {
   "cell_type": "code",
   "execution_count": null,
   "metadata": {},
   "outputs": [],
   "source": [
    "L=[0,13,26,39,52,65,78,91]\n",
    "print(L)"
   ]
  }
 ],
 "metadata": {
  "kernelspec": {
   "display_name": "Python 3",
   "language": "python",
   "name": "python3"
  },
  "language_info": {
   "codemirror_mode": {
    "name": "ipython",
    "version": 3
   },
   "file_extension": ".py",
   "mimetype": "text/x-python",
   "name": "python",
   "nbconvert_exporter": "python",
   "pygments_lexer": "ipython3",
   "version": "3.6.3"
  }
 },
 "nbformat": 4,
 "nbformat_minor": 2
}
