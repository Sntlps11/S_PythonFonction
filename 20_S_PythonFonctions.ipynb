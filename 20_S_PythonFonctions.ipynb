{
 "cells": [
  {
   "cell_type": "markdown",
   "metadata": {},
   "source": [
    "# Fonctions sous Python\n",
    "## Mise en route\n",
    "### Sous une bonne étoile\n",
    "\n",
    "Si on exécute la fonction proposée ci-dessous ; que représente le dessin obtenu ?"
   ]
  },
  {
   "cell_type": "code",
   "execution_count": null,
   "metadata": {
    "collapsed": true
   },
   "outputs": [],
   "source": [
    "def toit1():\n",
    "    left(60)\n",
    "    forward(20)\n",
    "    right(120)\n",
    "    forward(20)\n"
   ]
  },
  {
   "cell_type": "markdown",
   "metadata": {},
   "source": [
    "Le dessin obtenu est : \n",
    "\n",
    "Exécuter le programme"
   ]
  },
  {
   "cell_type": "code",
   "execution_count": null,
   "metadata": {
    "collapsed": true
   },
   "outputs": [],
   "source": [
    "from turtle import*\n",
    "\n",
    "setheading(0)\n",
    "down()\n",
    "for i in range(6):\n",
    "    toit1()\n",
    "    \n",
    "mainloop()"
   ]
  },
  {
   "cell_type": "markdown",
   "metadata": {},
   "source": [
    "Modifier la fonction toit2() ci dessous pour obtenir la forme ZigZag puis exécuter le programme. Ajouter une ligne et modifier le nombre d'itérations."
   ]
  },
  {
   "cell_type": "code",
   "execution_count": null,
   "metadata": {},
   "outputs": [],
   "source": [
    "from turtle import*\n",
    "def toit2():\n",
    "    left(60)\n",
    "    forward(20)\n",
    "    right(120)\n",
    "    forward(20)\n",
    "    ...\n",
    "\n",
    "setheading(0)\n",
    "down()\n",
    "for i in range(...):\n",
    "    toit2()\n",
    "    \n",
    "mainloop()"
   ]
  },
  {
   "cell_type": "markdown",
   "metadata": {},
   "source": [
    "La ligne ajoutée est : ...\n",
    "Le nombre d'itérations est : ..."
   ]
  },
  {
   "cell_type": "markdown",
   "metadata": {},
   "source": [
    "Ecrire un programme Python reproduisant l'arc de cercle."
   ]
  },
  {
   "cell_type": "code",
   "execution_count": null,
   "metadata": {
    "collapsed": true
   },
   "outputs": [],
   "source": [
    "from turtle import*\n",
    "def toit3():\n",
    "      ...\n",
    "  \n",
    "setheading(0)\n",
    "down()\n",
    "for i in range(..):\n",
    "      toit3()\n",
    "\n",
    "mainloop()"
   ]
  },
  {
   "cell_type": "markdown",
   "metadata": {},
   "source": [
    "\n",
    "### A la bonne surface\n",
    "Soit la fonction $f(x)=\\frac{2}{x}+2,5$ définie sur l'intervalle [1 ; 5] ; écrire une fonction sous Python renvoyant l'image par la fonction $f$ d'une valeur numérique donnée en paramètre. "
   ]
  },
  {
   "cell_type": "code",
   "execution_count": null,
   "metadata": {
    "collapsed": true
   },
   "outputs": [],
   "source": [
    "..."
   ]
  },
  {
   "cell_type": "markdown",
   "metadata": {},
   "source": [
    "Écrire une fonction sous Python renvoyant l’aire d’un trapèze avec en paramètre la petite et grande base ainsi que la hauteur. On la dénommera Strapeze()."
   ]
  },
  {
   "cell_type": "code",
   "execution_count": null,
   "metadata": {
    "collapsed": true
   },
   "outputs": [],
   "source": [
    "..."
   ]
  },
  {
   "cell_type": "markdown",
   "metadata": {},
   "source": [
    "Soit le programme :"
   ]
  },
  {
   "cell_type": "code",
   "execution_count": null,
   "metadata": {
    "collapsed": true
   },
   "outputs": [],
   "source": [
    "def Strapeze(b,B,h):\n",
    "    return (b+B)*h/2\n",
    "n=int(input(\"Nb d’intervalles =\"))\n",
    "l=4/n\n",
    "a=1\n",
    "b=a+l\n",
    "S=0\n",
    "while b<=5:\n",
    "    S=S+Strapeze(f(a),f(b),l)\n",
    "    a=b\n",
    "    b=b+l\n",
    "print(\"Surface =\",S)"
   ]
  },
  {
   "cell_type": "markdown",
   "metadata": {},
   "source": [
    "Ce programme réalise : ..."
   ]
  },
  {
   "cell_type": "markdown",
   "metadata": {},
   "source": [
    "En prenant comme entier :\n",
    "n = 1 on obtient ... ;\n",
    "n = 2 on obtient ... ;\n",
    "n = 10 on obtient ... ;\n",
    "n = 100 on obtient ... ;\n",
    "n = 1000 on obtient ... ;"
   ]
  },
  {
   "cell_type": "markdown",
   "metadata": {},
   "source": [
    "En prenant comme entier :\n",
    "n = 19 on obtient ... ;\n",
    "n = 20 on obtient ... ;\n",
    "n = 21 on obtient ... ;\n",
    "n = 22 on obtient ... ;\n",
    "n = 1000 on obtient ... ;"
   ]
  }
 ],
 "metadata": {
  "kernelspec": {
   "display_name": "Python 3",
   "language": "python",
   "name": "python3"
  },
  "language_info": {
   "codemirror_mode": {
    "name": "ipython",
    "version": 3
   },
   "file_extension": ".py",
   "mimetype": "text/x-python",
   "name": "python",
   "nbconvert_exporter": "python",
   "pygments_lexer": "ipython3",
   "version": "3.6.3"
  }
 },
 "nbformat": 4,
 "nbformat_minor": 2
}
